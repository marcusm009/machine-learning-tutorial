{
 "cells": [
  {
   "cell_type": "markdown",
   "metadata": {},
   "source": [
    "# CS Discussion: Intro to Machine Learning"
   ]
  },
  {
   "cell_type": "code",
   "execution_count": 23,
   "metadata": {},
   "outputs": [],
   "source": [
    "# Common python imports\n",
    "import math\n",
    "import random\n",
    "import warnings\n",
    "import os\n",
    "\n",
    "# Common machine learning imports (basically, just always import these packages)\n",
    "import numpy as np\n",
    "import matplotlib.pyplot as plt\n",
    "\n",
    "# Scikit-learn specific packages\n",
    "from sklearn.datasets import load_digits\n",
    "from sklearn.model_selection import train_test_split\n",
    "from sklearn.linear_model import LogisticRegression\n",
    "\n",
    "# Local imports\n",
    "from models.NNClassifier import NNClassifier\n",
    "from decorators.SingleSampleDecorator import SingleSampleDecorator\n",
    "from helpers import show_digit, load_image\n",
    "\n",
    "warnings.simplefilter(\"ignore\")\n",
    "os.environ[\"PYTHONWARNINGS\"] = \"ignore\""
   ]
  },
  {
   "cell_type": "markdown",
   "metadata": {},
   "source": [
    "## Section I: Load & Clean Data"
   ]
  },
  {
   "cell_type": "markdown",
   "metadata": {},
   "source": [
    "After importing your dependencies, one of the first things you should do is to set a random seed. This ensure repeatability and simplifies debugging.\n",
    "\n",
    "When it comes time to test your model, this seed should be changed and/or ran a few times without being set."
   ]
  },
  {
   "cell_type": "code",
   "execution_count": 18,
   "metadata": {},
   "outputs": [],
   "source": [
    "SEED = 0\n",
    "random.seed(SEED)\n",
    "np.random.seed(SEED)"
   ]
  },
  {
   "cell_type": "markdown",
   "metadata": {},
   "source": [
    "The next step is to load and split your test data. According to a random website that I found on Google (seems legit enough), these are some common train-test split ratios:\n",
    "\n",
    "![image](nb-res/img1.png)"
   ]
  },
  {
   "cell_type": "markdown",
   "metadata": {},
   "source": [
    "You may occasionally hear about a third data subset, called a \"validation set.\" This used to be more common before modern cross validation techniques became commonplace in libraries. Read more here: https://towardsdatascience.com/cross-validation-in-machine-learning-72924a69872f.\n",
    "\n",
    "To keep things simple, we will stick with a utility method (part of sklearn.model_selection's package) to help us divide our data. We will go with a 80-20 train-test split.\n",
    "\n",
    "We will be using a subset of the MNIST (Modified National Institute of Standards and Technology database) dataset, which consists of 70k handwritten digits by American high school students [Source: http://yann.lecun.com/exdb/mnist/]. This dataset was developed in 1998 and is very commonly used when teaching machine learning concepts. A subset, which includes 1,797 of these digits, is a part of the scikit-learn library by default and can be easily loaded.\n",
    "\n",
    "**Fun fact:** When this dataset was first developed, error rates of 12% were common. Around 20 years later in 2018, the University of Virginia was able to achieve an error rate of 0.18% using a combination of three neural networks (fully connected, recurrent and convolution neural networks), nearly a 70x improvement [Source: https://en.wikipedia.org/wiki/MNIST_database]."
   ]
  },
  {
   "cell_type": "code",
   "execution_count": 19,
   "metadata": {},
   "outputs": [
    {
     "name": "stdout",
     "output_type": "stream",
     "text": [
      "== Train Dimensions ==\n",
      "X: (1437, 64)\n",
      "y: (1437,)\n",
      "== Test Dimensions ==\n",
      "X: (360, 64)\n",
      "y: (360,)\n"
     ]
    }
   ],
   "source": [
    "# Import the digits dataset\n",
    "digits = load_digits()\n",
    "\n",
    "# Split the data into a train and test set\n",
    "X_train, X_test, y_train, y_test = train_test_split(digits.data, digits.target, test_size=0.2)\n",
    "\n",
    "# Show dimensions\n",
    "print('== Train Dimensions ==')\n",
    "print(f'X: {X_train.shape}')\n",
    "print(f'y: {y_train.shape}')\n",
    "\n",
    "print('== Test Dimensions ==')\n",
    "print(f'X: {X_test.shape}')\n",
    "print(f'y: {y_test.shape}')"
   ]
  },
  {
   "cell_type": "markdown",
   "metadata": {},
   "source": [
    "We will use `X` to represent our input data (independent variables) and `y` to represent what we are trying to predict (dependent variables).\n",
    "\n",
    "Somewhat less common nomenclature to denote the dimensions is to use `m` for the number of features (in this case: 64) and to use `n` for the number of samples.\n",
    "\n",
    "Can anyone guess why we have 64 features?"
   ]
  },
  {
   "cell_type": "markdown",
   "metadata": {},
   "source": [
    "While the sk-learn `LogisticRegression` model that we will be using is smart enough to handle unnormalized data, it is generally good practice to ensure our input features are bounded to the range [0, 1].\n",
    "\n",
    "![image](nb-res/img2.png)\n",
    "\n",
    "Source: https://www.analyticsvidhya.com/blog/2020/04/feature-scaling-machine-learning-normalization-standardization/"
   ]
  },
  {
   "cell_type": "code",
   "execution_count": 20,
   "metadata": {},
   "outputs": [],
   "source": [
    "# Normalize data\n",
    "max = np.amax(X_train)\n",
    "X_train /= max\n",
    "X_test /= max"
   ]
  },
  {
   "cell_type": "markdown",
   "metadata": {},
   "source": [
    "Now that our data has been \"cleaned,\" we can take a look at an example image from our dataset."
   ]
  },
  {
   "cell_type": "code",
   "execution_count": 21,
   "metadata": {},
   "outputs": [
    {
     "name": "stdout",
     "output_type": "stream",
     "text": [
      "[0.     0.125  0.6875 0.8125 0.6875 0.125  0.     0.     0.     0.4375\n",
      " 0.75   0.25   0.8125 0.5    0.     0.     0.     0.375  0.8125 0.3125\n",
      " 0.875  0.8125 0.     0.     0.     0.     0.1875 0.6875 0.5625 0.6875\n",
      " 0.3125 0.     0.     0.     0.     0.     0.     0.5    0.5    0.\n",
      " 0.     0.     0.     0.     0.     0.1875 0.6875 0.     0.     0.\n",
      " 0.125  0.     0.0625 0.5625 0.625  0.     0.     0.0625 0.9375 1.\n",
      " 1.     0.875  0.125  0.    ]\n",
      "(64,)\n",
      "9\n"
     ]
    },
    {
     "data": {
      "image/png": "[encoded data removed]",
      "text/plain": [
       "<Figure size 640x480 with 1 Axes>"
      ]
     },
     "metadata": {},
     "output_type": "display_data"
    }
   ],
   "source": [
    "INDEX = 65\n",
    "\n",
    "show_digit(X_test[INDEX])\n",
    "print(X_test[INDEX])\n",
    "print(X_test[INDEX].shape)\n",
    "print(y_test[INDEX])"
   ]
  },
  {
   "cell_type": "markdown",
   "metadata": {},
   "source": [
    "## Section II: Train & Evaluate Logistic Regression Model"
   ]
  },
  {
   "cell_type": "markdown",
   "metadata": {},
   "source": [
    "![image](nb-res/img3.png)\n",
    "\n",
    "Source: https://www.researchgate.net/figure/Logistic-regression-and-linear-regression_fig1_335786324\n",
    "\n",
    "![image](nb-res/img4.png)\n",
    "\n",
    "Source: https://www.statology.org/logistic-regression-vs-linear-regression/\n",
    "\n",
    "![image](nb-res/img7.png)\n",
    "\n",
    "Source: https://towardsdatascience.com/logistic-regression-detailed-overview-46c4da4303bc\n",
    "\n",
    "![image](nb-res/img5.png)\n",
    "\n",
    "Source: https://utkuufuk.com/2018/06/03/one-vs-all-classification/\n",
    "\n",
    "![image](nb-res/img6.png)\n",
    "\n",
    "Source: https://www.freecodecamp.org/news/machine-learning-mean-squared-error-regression-line-c7dde9a26b93/"
   ]
  },
  {
   "cell_type": "code",
   "execution_count": 22,
   "metadata": {},
   "outputs": [
    {
     "data": {
      "text/plain": [
       "decorators.SingleSampleDecorator.SingleSampleDecorator"
      ]
     },
     "execution_count": 22,
     "metadata": {},
     "output_type": "execute_result"
    }
   ],
   "source": [
    "model = SingleSampleDecorator(LogisticRegression()).fit(X_train, y_train)\n",
    "type(model)"
   ]
  },
  {
   "cell_type": "code",
   "execution_count": 8,
   "metadata": {},
   "outputs": [
    {
     "data": {
      "text/plain": [
       "array([[2.93689844e-03, 5.74857506e-04, 8.79552482e-03, 5.98811558e-02,\n",
       "        8.33119163e-05, 6.75031657e-03, 1.95524774e-05, 5.59997679e-04,\n",
       "        1.67910219e-03, 9.18719283e-01]])"
      ]
     },
     "execution_count": 8,
     "metadata": {},
     "output_type": "execute_result"
    }
   ],
   "source": [
    "model.predict_proba(X_test[INDEX])"
   ]
  },
  {
   "cell_type": "code",
   "execution_count": 9,
   "metadata": {},
   "outputs": [
    {
     "data": {
      "text/plain": [
       "array([9])"
      ]
     },
     "execution_count": 9,
     "metadata": {},
     "output_type": "execute_result"
    }
   ],
   "source": [
    "model.predict(X_test[INDEX])"
   ]
  },
  {
   "cell_type": "code",
   "execution_count": 7,
   "metadata": {},
   "outputs": [
    {
     "data": {
      "text/plain": [
       "0.9638888888888889"
      ]
     },
     "execution_count": 7,
     "metadata": {},
     "output_type": "execute_result"
    }
   ],
   "source": [
    "model.score(X_test, y_test)"
   ]
  },
  {
   "cell_type": "markdown",
   "metadata": {},
   "source": [
    "# Section III: Load Your Own Data"
   ]
  },
  {
   "cell_type": "code",
   "execution_count": 10,
   "metadata": {},
   "outputs": [
    {
     "data": {
      "image/png": "[encoded data removed]",
      "text/plain": [
       "<Figure size 640x480 with 1 Axes>"
      ]
     },
     "metadata": {},
     "output_type": "display_data"
    }
   ],
   "source": [
    "img = load_image('data/sketch (1).jpg')\n",
    "show_digit(img)"
   ]
  },
  {
   "cell_type": "code",
   "execution_count": 11,
   "metadata": {},
   "outputs": [
    {
     "data": {
      "text/plain": [
       "array([4])"
      ]
     },
     "execution_count": 11,
     "metadata": {},
     "output_type": "execute_result"
    }
   ],
   "source": [
    "model.predict(img)"
   ]
  },
  {
   "cell_type": "markdown",
   "metadata": {},
   "source": [
    "# Section IV: Use a \"More Powerful\" Model"
   ]
  },
  {
   "cell_type": "code",
   "execution_count": 12,
   "metadata": {},
   "outputs": [],
   "source": [
    "model2 = NNClassifier().fit(X_train, y_train)"
   ]
  },
  {
   "cell_type": "code",
   "execution_count": 14,
   "metadata": {},
   "outputs": [
    {
     "data": {
      "text/plain": [
       "array([8])"
      ]
     },
     "execution_count": 14,
     "metadata": {},
     "output_type": "execute_result"
    }
   ],
   "source": [
    "model2.predict(img)"
   ]
  },
  {
   "cell_type": "code",
   "execution_count": 13,
   "metadata": {},
   "outputs": [
    {
     "data": {
      "text/plain": [
       "0.9666666666666667"
      ]
     },
     "execution_count": 13,
     "metadata": {},
     "output_type": "execute_result"
    }
   ],
   "source": [
    "model2.score(X_test, y_test)"
   ]
  }
 ],
 "metadata": {
  "kernelspec": {
   "display_name": "tutorial",
   "language": "python",
   "name": "python3"
  },
  "language_info": {
   "codemirror_mode": {
    "name": "ipython",
    "version": 3
   },
   "file_extension": ".py",
   "mimetype": "text/x-python",
   "name": "python",
   "nbconvert_exporter": "python",
   "pygments_lexer": "ipython3",
   "version": "3.10.6"
  },
  "orig_nbformat": 4,
  "vscode": {
   "interpreter": {
    "hash": "f91fb63d57daf1812cb2158b67e4e310fcc2afc325691d4768a7cc5e46e3e305"
   }
  }
 },
 "nbformat": 4,
 "nbformat_minor": 2
}
